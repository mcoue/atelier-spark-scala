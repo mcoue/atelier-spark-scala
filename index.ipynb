{
 "cells": [
  {
   "cell_type": "markdown",
   "id": "85dbdf63",
   "metadata": {},
   "source": [
    "# SÉANCE 1"
   ]
  },
  {
   "cell_type": "markdown",
   "id": "94475a9f",
   "metadata": {},
   "source": [
    "### ÉTAPE 2 - Persona"
   ]
  },
  {
   "cell_type": "markdown",
   "id": "551c4da2",
   "metadata": {},
   "source": [
    "#### Métier / Type d’utilisateur intéressé par ces données\n",
    "Un thérapeute de couple ou un psychologue conjugal serait un profil très pertinent. Ces professionnels cherchent à comprendre les facteurs influençant la satisfaction conjugale et la fidélité dans le couple.\n",
    "\n",
    "Les variables disponibles (âge, durée du mariage, présence d’enfants, religiosité, satisfaction dans le couple, etc.) peuvent les aider à identifier les profils à risque ou à mieux orienter leur accompagnement.\n",
    "\n",
    "#### Persona : Dr. Clara Morel, psychologue conjugale\n",
    "__Âge :__ 42 ans\n",
    "\n",
    "__Profession :__ Psychologue spécialisée en thérapie de couple\n",
    "\n",
    "__Lieu d’exercice :__ Cabinet privé à Lyon\n",
    "\n",
    "__Contexte :__ Elle accompagne principalement des couples mariés entre 25 et 55 ans. Elle s’intéresse à l’impact de la durée du mariage, de la religiosité, du niveau d’éducation ou encore du niveau de satisfaction conjugale sur la fidélité."
   ]
  },
  {
   "cell_type": "markdown",
   "id": "075e6f78",
   "metadata": {},
   "source": [
    "### ÉTAPE 3 - Chargement, pré-traitement"
   ]
  },
  {
   "cell_type": "code",
   "execution_count": 8,
   "id": "d0cab800",
   "metadata": {},
   "outputs": [
    {
     "data": {
      "text/plain": [
       "lastException = null\n"
      ]
     },
     "metadata": {},
     "output_type": "display_data"
    },
    {
     "data": {
      "text/plain": [
       "null"
      ]
     },
     "execution_count": 8,
     "metadata": {},
     "output_type": "execute_result"
    }
   ],
   "source": [
    "import org.apache.spark.rdd.RDD\n",
    "import org.apache.spark.sql.functions.monotonically_increasing_id\n",
    "import org.apache.spark.sql.hive.HiveContext"
   ]
  },
  {
   "cell_type": "code",
   "execution_count": 9,
   "id": "8a2a127a",
   "metadata": {},
   "outputs": [
    {
     "data": {
      "text/plain": [
       "defined class Affair\n"
      ]
     },
     "metadata": {},
     "output_type": "display_data"
    }
   ],
   "source": [
    "case class Affair(\n",
    "    id: Int,\n",
    "    affairs: Int,\n",
    "    gender: String,\n",
    "    age: Double,\n",
    "    yearsMarried: Double,\n",
    "    children: String,\n",
    "    religiousness: Int,\n",
    "    education: Int,\n",
    "    occupation: Int,\n",
    "    rating: Int\n",
    ")"
   ]
  },
  {
   "cell_type": "code",
   "execution_count": 10,
   "id": "fc6d2f2b",
   "metadata": {},
   "outputs": [
    {
     "name": "stdout",
     "output_type": "stream",
     "text": [
      "Affair(4,0,male,37.0,10.0,no,3,18,7,4)\n",
      "Affair(5,0,female,27.0,4.0,no,4,14,6,4)\n",
      "Affair(11,0,female,32.0,15.0,yes,1,12,1,4)\n",
      "Affair(16,0,male,57.0,15.0,yes,5,18,6,5)\n",
      "Affair(23,0,male,22.0,0.75,no,2,17,6,3)\n",
      "Affair(29,0,female,32.0,1.5,no,2,17,5,5)\n",
      "Affair(44,0,female,22.0,0.75,no,2,12,1,3)\n",
      "Affair(45,0,male,57.0,15.0,yes,2,14,4,4)\n",
      "Affair(47,0,female,32.0,15.0,yes,4,16,1,2)\n",
      "Affair(49,0,male,22.0,1.5,no,4,14,4,5)\n"
     ]
    },
    {
     "data": {
      "text/plain": [
       "data = MapPartitionsRDD[40] at map at <console>:36\n",
       "affairsRDD = MapPartitionsRDD[42] at map at <console>:40\n"
      ]
     },
     "metadata": {},
     "output_type": "display_data"
    },
    {
     "data": {
      "text/plain": [
       "MapPartitionsRDD[42] at map at <console>:40"
      ]
     },
     "execution_count": 10,
     "metadata": {},
     "output_type": "execute_result"
    }
   ],
   "source": [
    "val data = sc.textFile(\"data/Affairs.csv\")\n",
    "    .zipWithIndex().filter { case (_, idx) => idx > 0 }.map(_._1)\n",
    "\n",
    "val affairsRDD: RDD[Affair] = data\n",
    "  .map(_.split(\",\"))\n",
    "  .map(fields => Affair(\n",
    "    fields(0).toInt,\n",
    "    fields(1).toInt,\n",
    "    fields(2).toString,\n",
    "    fields(3).toDouble,\n",
    "    fields(4).toDouble,\n",
    "    fields(5).toString,\n",
    "    fields(6).toInt,\n",
    "    fields(7).toInt,\n",
    "    fields(8).toInt,\n",
    "    fields(9).toInt\n",
    "  ))\n",
    "\n",
    "affairsRDD.take(10).foreach(println)"
   ]
  },
  {
   "cell_type": "markdown",
   "id": "81f722bd",
   "metadata": {},
   "source": [
    "# SÉANCE 2"
   ]
  },
  {
   "cell_type": "markdown",
   "id": "9c245b5d",
   "metadata": {},
   "source": [
    "### ÉTAPE 1 - RDD vers un dataframe"
   ]
  },
  {
   "cell_type": "code",
   "execution_count": 11,
   "id": "ceadc864",
   "metadata": {},
   "outputs": [
    {
     "name": "stdout",
     "output_type": "stream",
     "text": [
      "+---+-------+------+----+------------+--------+-------------+---------+----------+------+\n",
      "| id|affairs|gender| age|yearsMarried|children|religiousness|education|occupation|rating|\n",
      "+---+-------+------+----+------------+--------+-------------+---------+----------+------+\n",
      "|  4|      0|  male|37.0|        10.0|      no|            3|       18|         7|     4|\n",
      "|  5|      0|female|27.0|         4.0|      no|            4|       14|         6|     4|\n",
      "| 11|      0|female|32.0|        15.0|     yes|            1|       12|         1|     4|\n",
      "| 16|      0|  male|57.0|        15.0|     yes|            5|       18|         6|     5|\n",
      "| 23|      0|  male|22.0|        0.75|      no|            2|       17|         6|     3|\n",
      "| 29|      0|female|32.0|         1.5|      no|            2|       17|         5|     5|\n",
      "| 44|      0|female|22.0|        0.75|      no|            2|       12|         1|     3|\n",
      "| 45|      0|  male|57.0|        15.0|     yes|            2|       14|         4|     4|\n",
      "| 47|      0|female|32.0|        15.0|     yes|            4|       16|         1|     2|\n",
      "| 49|      0|  male|22.0|         1.5|      no|            4|       14|         4|     5|\n",
      "+---+-------+------+----+------------+--------+-------------+---------+----------+------+\n",
      "only showing top 10 rows\n",
      "\n",
      "root\n",
      " |-- id: integer (nullable = false)\n",
      " |-- affairs: integer (nullable = false)\n",
      " |-- gender: string (nullable = true)\n",
      " |-- age: double (nullable = false)\n",
      " |-- yearsMarried: double (nullable = false)\n",
      " |-- children: string (nullable = true)\n",
      " |-- religiousness: integer (nullable = false)\n",
      " |-- education: integer (nullable = false)\n",
      " |-- occupation: integer (nullable = false)\n",
      " |-- rating: integer (nullable = false)\n",
      "\n",
      "Total rows: 601\n",
      "+-------+------------------+------------------+------+-----------------+-----------------+--------+------------------+------------------+------------------+------------------+\n",
      "|summary|                id|           affairs|gender|              age|     yearsMarried|children|     religiousness|         education|        occupation|            rating|\n",
      "+-------+------------------+------------------+------+-----------------+-----------------+--------+------------------+------------------+------------------+------------------+\n",
      "|  count|               601|               601|   601|              601|              601|     601|               601|               601|               601|               601|\n",
      "|   mean|1059.7221297836938|1.4559068219633944|  NULL|32.48752079866888| 8.17769550748752|    NULL|3.1164725457570714| 16.16638935108153| 4.194675540765391|3.9317803660565724|\n",
      "| stddev| 914.9046112352131|  3.29875772849468|  NULL| 9.28876170487667|5.571303149963793|    NULL|1.1675094016730692|2.4025545657666987|1.8194426627085787|1.1031794920503792|\n",
      "|    min|                 4|                 0|female|             17.5|            0.125|      no|                 1|                 9|                 1|                 1|\n",
      "|    25%|               528|                 0|  NULL|             27.0|              4.0|    NULL|                 2|                14|                 3|                 3|\n",
      "|    50%|              1009|                 0|  NULL|             32.0|              7.0|    NULL|                 3|                16|                 5|                 4|\n",
      "|    75%|              1453|                 0|  NULL|             37.0|             15.0|    NULL|                 4|                18|                 6|                 5|\n",
      "|    max|              9029|                12|  male|             57.0|             15.0|     yes|                 5|                20|                 7|                 5|\n",
      "+-------+------------------+------------------+------+-----------------+-----------------+--------+------------------+------------------+------------------+------------------+\n",
      "\n"
     ]
    },
    {
     "data": {
      "text/plain": [
       "affairsDF = [id: int, affairs: int ... 8 more fields]\n"
      ]
     },
     "metadata": {},
     "output_type": "display_data"
    },
    {
     "data": {
      "text/plain": [
       "[id: int, affairs: int ... 8 more fields]"
      ]
     },
     "execution_count": 11,
     "metadata": {},
     "output_type": "execute_result"
    }
   ],
   "source": [
    "val affairsDF = affairsRDD.toDF()\n",
    "\n",
    "affairsDF.show(10)\n",
    "affairsDF.printSchema()\n",
    "println(s\"Total rows: ${affairsDF.count()}\")\n",
    "affairsDF.summary().show()"
   ]
  },
  {
   "cell_type": "markdown",
   "id": "5e752f1a",
   "metadata": {},
   "source": [
    "### ÉTAPE 2 - Extraction de dimensions"
   ]
  },
  {
   "cell_type": "code",
   "execution_count": 12,
   "id": "e0e3d413",
   "metadata": {},
   "outputs": [
    {
     "name": "stdout",
     "output_type": "stream",
     "text": [
      "+--------+-----------+\n",
      "|children|id_children|\n",
      "+--------+-----------+\n",
      "|      no|          0|\n",
      "|     yes|          1|\n",
      "+--------+-----------+\n",
      "\n",
      "+------+---------+\n",
      "|gender|id_gender|\n",
      "+------+---------+\n",
      "|female|        0|\n",
      "|  male|        1|\n",
      "+------+---------+\n",
      "\n"
     ]
    },
    {
     "data": {
      "text/plain": [
       "dfChildren = [children: string, id_children: bigint]\n",
       "dfGender = [gender: string, id_gender: bigint]\n"
      ]
     },
     "metadata": {},
     "output_type": "display_data"
    },
    {
     "data": {
      "text/plain": [
       "[gender: string, id_gender: bigint]"
      ]
     },
     "execution_count": 12,
     "metadata": {},
     "output_type": "execute_result"
    }
   ],
   "source": [
    "// dimensions littérales = children & gender\n",
    "\n",
    "val dfChildren = affairsDF\n",
    "    .select(\"children\")\n",
    "    .distinct\n",
    "    .withColumn(\"id_children\", monotonically_increasing_id)\n",
    "\n",
    "dfChildren.show(10);\n",
    "\n",
    "val dfGender = affairsDF\n",
    "    .select(\"gender\")\n",
    "    .distinct\n",
    "    .withColumn(\"id_gender\", monotonically_increasing_id)\n",
    "\n",
    "dfGender.show(10)"
   ]
  },
  {
   "cell_type": "code",
   "execution_count": 13,
   "id": "b00ad3a6",
   "metadata": {},
   "outputs": [
    {
     "data": {
      "text/plain": [
       "affairsNormalized = [id: int, affairs: int ... 8 more fields]\n"
      ]
     },
     "metadata": {},
     "output_type": "display_data"
    },
    {
     "name": "stdout",
     "output_type": "stream",
     "text": [
      "root\n",
      " |-- id: integer (nullable = false)\n",
      " |-- affairs: integer (nullable = false)\n",
      " |-- age: double (nullable = false)\n",
      " |-- yearsMarried: double (nullable = false)\n",
      " |-- religiousness: integer (nullable = false)\n",
      " |-- education: integer (nullable = false)\n",
      " |-- occupation: integer (nullable = false)\n",
      " |-- rating: integer (nullable = false)\n",
      " |-- id_gender: long (nullable = false)\n",
      " |-- id_children: long (nullable = false)\n",
      "\n"
     ]
    },
    {
     "data": {
      "text/plain": [
       "[id: int, affairs: int ... 8 more fields]"
      ]
     },
     "execution_count": 13,
     "metadata": {},
     "output_type": "execute_result"
    }
   ],
   "source": [
    "val affairsNormalized = affairsDF\n",
    ".join(dfGender, Seq(\"gender\"))\n",
    ".join(dfChildren, Seq(\"children\"))\n",
    ".drop(\"gender\", \"children\")\n",
    "\n",
    "affairsNormalized.printSchema()"
   ]
  },
  {
   "cell_type": "markdown",
   "id": "a491252b",
   "metadata": {},
   "source": [
    "### ÉTAPE 3 - Tables Hive, SQL"
   ]
  },
  {
   "cell_type": "code",
   "execution_count": 14,
   "id": "f37d2767",
   "metadata": {},
   "outputs": [],
   "source": [
    "dfGender.write.mode(\"overwrite\").saveAsTable(\"gender\")\n",
    "dfChildren.write.mode(\"overwrite\").saveAsTable(\"children\")\n",
    "affairsNormalized.write.mode(\"overwrite\").saveAsTable(\"affairs\")"
   ]
  },
  {
   "cell_type": "code",
   "execution_count": 15,
   "id": "336eef85",
   "metadata": {},
   "outputs": [
    {
     "name": "stdout",
     "output_type": "stream",
     "text": [
      "+---------+---------+-----------+\n",
      "|namespace|tableName|isTemporary|\n",
      "+---------+---------+-----------+\n",
      "|  default|  affairs|      false|\n",
      "|  default| children|      false|\n",
      "|  default|   gender|      false|\n",
      "+---------+---------+-----------+\n",
      "\n",
      "+---+-------+----+------------+-------------+---------+----------+------+---------+-----------+------+---------+\n",
      "| id|affairs| age|yearsMarried|religiousness|education|occupation|rating|id_gender|id_children|gender|id_gender|\n",
      "+---+-------+----+------------+-------------+---------+----------+------+---------+-----------+------+---------+\n",
      "|  4|      0|37.0|        10.0|            3|       18|         7|     4|        1|          0|  male|        1|\n",
      "| 16|      0|57.0|        15.0|            5|       18|         6|     5|        1|          1|  male|        1|\n",
      "| 23|      0|22.0|        0.75|            2|       17|         6|     3|        1|          0|  male|        1|\n",
      "| 45|      0|57.0|        15.0|            2|       14|         4|     4|        1|          1|  male|        1|\n",
      "| 49|      0|22.0|         1.5|            4|       14|         4|     5|        1|          0|  male|        1|\n",
      "+---+-------+----+------------+-------------+---------+----------+------+---------+-----------+------+---------+\n",
      "\n"
     ]
    },
    {
     "data": {
      "text/plain": [
       "hc = org.apache.spark.sql.hive.HiveContext@43ed6e89\n"
      ]
     },
     "metadata": {},
     "output_type": "display_data"
    },
    {
     "data": {
      "text/plain": [
       "warning: one deprecation (since 2.0.0); for details, enable `:setting -deprecation' or `:replay -deprecation'\n"
      ]
     },
     "metadata": {},
     "output_type": "display_data"
    },
    {
     "data": {
      "text/plain": [
       "org.apache.spark.sql.hive.HiveContext@43ed6e89"
      ]
     },
     "execution_count": 15,
     "metadata": {},
     "output_type": "execute_result"
    }
   ],
   "source": [
    "val hc = new HiveContext(sc)\n",
    "\n",
    "hc.sql(\"SHOW TABLES\").show()\n",
    "hc.sql(\"SELECT * FROM affairs JOIN gender ON gender.id_gender = affairs.id_gender WHERE gender.gender = 'male' LIMIT 5\").show()"
   ]
  },
  {
   "cell_type": "markdown",
   "id": "6d691f58",
   "metadata": {},
   "source": [
    "# SÉANCE 3"
   ]
  },
  {
   "cell_type": "markdown",
   "id": "62cc6c4b",
   "metadata": {},
   "source": [
    "### ÉTAPE 1 - Agrégations"
   ]
  },
  {
   "cell_type": "markdown",
   "id": "65b7dff4",
   "metadata": {},
   "source": [
    "#### Moyenne d'infidélité dans l’ensemble"
   ]
  },
  {
   "cell_type": "code",
   "execution_count": 16,
   "id": "3eabd2ec",
   "metadata": {},
   "outputs": [
    {
     "name": "stdout",
     "output_type": "stream",
     "text": [
      "+-----------+\n",
      "|avg_affairs|\n",
      "+-----------+\n",
      "|       1.46|\n",
      "+-----------+\n",
      "\n"
     ]
    }
   ],
   "source": [
    "hc.sql(\"SELECT ROUND(AVG(affairs),2) AS avg_affairs FROM affairs;\").show()"
   ]
  },
  {
   "cell_type": "markdown",
   "id": "45108b9e",
   "metadata": {},
   "source": [
    "#### Âge moyen des individus"
   ]
  },
  {
   "cell_type": "code",
   "execution_count": 17,
   "id": "73854cea",
   "metadata": {},
   "outputs": [
    {
     "data": {
      "text/plain": [
       "dfAverageAgeByGender = [genre: string, age_moyen: double]\n"
      ]
     },
     "metadata": {},
     "output_type": "display_data"
    },
    {
     "name": "stdout",
     "output_type": "stream",
     "text": [
      "+------+---------+\n",
      "| genre|age_moyen|\n",
      "+------+---------+\n",
      "|female|     31.0|\n",
      "|  male|     34.0|\n",
      "+------+---------+\n",
      "\n"
     ]
    },
    {
     "data": {
      "text/plain": [
       "[genre: string, age_moyen: double]"
      ]
     },
     "execution_count": 17,
     "metadata": {},
     "output_type": "execute_result"
    }
   ],
   "source": [
    "val dfAverageAgeByGender = hc.sql(\"\"\"\n",
    "    SELECT \n",
    "    g.gender AS genre,\n",
    "    ROUND(AVG(a.age)) AS age_moyen\n",
    "    FROM affairs a\n",
    "    JOIN gender g ON a.id_gender = g.id_gender\n",
    "    GROUP BY g.gender;\n",
    "\"\"\")\n",
    "\n",
    "dfAverageAgeByGender.show()"
   ]
  },
  {
   "cell_type": "markdown",
   "id": "79691f76",
   "metadata": {},
   "source": [
    "#### Nombre moyen d’infidélités selon le genre"
   ]
  },
  {
   "cell_type": "code",
   "execution_count": 18,
   "id": "34186bd9",
   "metadata": {},
   "outputs": [
    {
     "name": "stdout",
     "output_type": "stream",
     "text": [
      "+------+-----------+\n",
      "|gender|avg_affairs|\n",
      "+------+-----------+\n",
      "|female|       1.42|\n",
      "|  male|        1.5|\n",
      "+------+-----------+\n",
      "\n"
     ]
    },
    {
     "data": {
      "text/plain": [
       "dfAverageAffairByGender = [gender: string, avg_affairs: double]\n"
      ]
     },
     "metadata": {},
     "output_type": "display_data"
    },
    {
     "data": {
      "text/plain": [
       "[gender: string, avg_affairs: double]"
      ]
     },
     "execution_count": 18,
     "metadata": {},
     "output_type": "execute_result"
    }
   ],
   "source": [
    "val dfAverageAffairByGender = hc.sql(\"\"\"\n",
    "    SELECT g.gender, ROUND(AVG(a.affairs),2) AS avg_affairs\n",
    "    FROM affairs a\n",
    "    JOIN gender g ON a.id_gender = g.id_gender\n",
    "    GROUP BY g.gender;\n",
    "\"\"\")\n",
    "\n",
    "dfAverageAffairByGender.show();"
   ]
  },
  {
   "cell_type": "markdown",
   "id": "72e587ad",
   "metadata": {},
   "source": [
    "#### Taux d’infidélité moyen selon présence d’enfants"
   ]
  },
  {
   "cell_type": "code",
   "execution_count": 19,
   "id": "fa3deeb7",
   "metadata": {},
   "outputs": [
    {
     "name": "stdout",
     "output_type": "stream",
     "text": [
      "+--------+-----------+\n",
      "|children|avg_affairs|\n",
      "+--------+-----------+\n",
      "|      no|       0.91|\n",
      "|     yes|       1.67|\n",
      "+--------+-----------+\n",
      "\n"
     ]
    }
   ],
   "source": [
    "hc.sql(\"\"\"\n",
    "    SELECT c.children, ROUND(AVG(a.affairs),2) AS avg_affairs\n",
    "    FROM affairs a\n",
    "    JOIN children c ON a.id_children = c.id_children\n",
    "    GROUP BY c.children;\n",
    "\"\"\").show()"
   ]
  },
  {
   "cell_type": "markdown",
   "id": "72c06c65",
   "metadata": {},
   "source": [
    "#### Taux d'infidélité moyen selon niveau d’éducation\n",
    "9 = grade school, 12 = high school graduate, 14 = some college, 16 = college graduate, 17 = some graduate work, 18 = master's degree, 20 = Ph.D., M.D., or other advanced degree"
   ]
  },
  {
   "cell_type": "code",
   "execution_count": 20,
   "id": "6d9f068d",
   "metadata": {},
   "outputs": [
    {
     "name": "stdout",
     "output_type": "stream",
     "text": [
      "+---------+-----------+\n",
      "|education|avg_affairs|\n",
      "+---------+-----------+\n",
      "|        9|       3.43|\n",
      "|       12|        2.2|\n",
      "|       14|       1.17|\n",
      "|       16|        0.7|\n",
      "|       17|       2.04|\n",
      "|       18|        1.7|\n",
      "|       20|       1.53|\n",
      "+---------+-----------+\n",
      "\n"
     ]
    }
   ],
   "source": [
    "hc.sql(\"\"\"\n",
    "    SELECT education, ROUND(AVG(affairs),2) AS avg_affairs\n",
    "    FROM affairs\n",
    "    GROUP BY education\n",
    "    ORDER BY education;\n",
    "\"\"\").show()"
   ]
  },
  {
   "cell_type": "markdown",
   "id": "746143f3",
   "metadata": {},
   "source": [
    "#### Satisfaction conjugale moyenne selon le nombre d’infidélités\n",
    "1 = very unhappy, 2 = somewhat unhappy, 3 = average, 4 = happier than average, 5 = very happy."
   ]
  },
  {
   "cell_type": "code",
   "execution_count": 21,
   "id": "e443b951",
   "metadata": {},
   "outputs": [
    {
     "data": {
      "text/plain": [
       "dfAverageAffairByRating = [affairs: int, avg_rating: double]\n"
      ]
     },
     "metadata": {},
     "output_type": "display_data"
    },
    {
     "name": "stdout",
     "output_type": "stream",
     "text": [
      "+-------+----------+\n",
      "|affairs|avg_rating|\n",
      "+-------+----------+\n",
      "|      0|       4.1|\n",
      "|      1|       4.0|\n",
      "|      2|       3.6|\n",
      "|      3|       3.2|\n",
      "|      7|       3.5|\n",
      "|     12|       3.0|\n",
      "+-------+----------+\n",
      "\n"
     ]
    },
    {
     "data": {
      "text/plain": [
       "[affairs: int, avg_rating: double]"
      ]
     },
     "execution_count": 21,
     "metadata": {},
     "output_type": "execute_result"
    }
   ],
   "source": [
    "val dfAverageAffairByRating = hc.sql(\"\"\"\n",
    "    SELECT affairs, ROUND(AVG(rating),1) AS avg_rating\n",
    "    FROM affairs\n",
    "    GROUP BY affairs\n",
    "    ORDER BY affairs;\n",
    "\"\"\")\n",
    "\n",
    "dfAverageAffairByRating.show()"
   ]
  },
  {
   "cell_type": "markdown",
   "id": "2fb4f52b",
   "metadata": {},
   "source": [
    "#### Regroupement par années de mariage\n",
    "0.125 = 3 months or less, 0.417 = 4–6 months, 0.75 = 6 months–1 year, 1.5 = 1–2 years, 4 = 3–5 years, 7 = 6–8 years, 10 = 9–11 years, 15 = 12 or more years."
   ]
  },
  {
   "cell_type": "code",
   "execution_count": 31,
   "id": "6f835165",
   "metadata": {},
   "outputs": [
    {
     "data": {
      "text/plain": [
       "dfCategoryYearsMarried = [yearsMarried: string, nb_personnes: bigint ... 1 more field]\n"
      ]
     },
     "metadata": {},
     "output_type": "display_data"
    },
    {
     "name": "stdout",
     "output_type": "stream",
     "text": [
      "+---------------+------------+-----------+\n",
      "|   yearsMarried|nb_personnes|avg_affairs|\n",
      "+---------------+------------+-----------+\n",
      "|      1 à 2 ans|          88|        0.0|\n",
      "| 12 ans ou plus|         204|        2.0|\n",
      "|3 mois ou moins|          11|        0.0|\n",
      "|      3 à 5 ans|         105|        1.0|\n",
      "|     4 à 6 mois|          10|        0.0|\n",
      "|  6 mois à 1 an|          31|        1.0|\n",
      "|      6 à 8 ans|          82|        2.0|\n",
      "|     9 à 11 ans|          70|        2.0|\n",
      "+---------------+------------+-----------+\n",
      "\n"
     ]
    },
    {
     "data": {
      "text/plain": [
       "[yearsMarried: string, nb_personnes: bigint ... 1 more field]"
      ]
     },
     "execution_count": 31,
     "metadata": {},
     "output_type": "execute_result"
    }
   ],
   "source": [
    "val dfCategoryYearsMarried = hc.sql(\"\"\"\n",
    "    SELECT \n",
    "    CASE \n",
    "        WHEN yearsMarried = 0.125 THEN '3 mois ou moins' \n",
    "        WHEN yearsMarried = 0.417 THEN '4 à 6 mois' \n",
    "        WHEN yearsMarried = 0.75 THEN '6 mois à 1 an' \n",
    "        WHEN yearsMarried = 1.5 THEN '1 à 2 ans' \n",
    "        WHEN yearsMarried = 4.0 THEN '3 à 5 ans' \n",
    "        WHEN yearsMarried = 7.0 THEN '6 à 8 ans' \n",
    "        WHEN yearsMarried = 10.0 THEN '9 à 11 ans' \n",
    "        WHEN yearsMarried = 15.0 THEN '12 ans ou plus'\n",
    "        ELSE '60+' \n",
    "    END AS yearsMarried, \n",
    "    COUNT(*) AS nb_personnes, \n",
    "    ROUND(AVG(affairs)) AS avg_affairs\n",
    "    FROM affairs\n",
    "    GROUP BY yearsMarried\n",
    "    ORDER BY yearsMarried;\n",
    "\"\"\")\n",
    "\n",
    "dfCategoryYearsMarried.show()"
   ]
  },
  {
   "cell_type": "markdown",
   "id": "f5b8dab3",
   "metadata": {},
   "source": [
    "#### Catégorisation de l'infidélité chez les hommes et chez les femmes"
   ]
  },
  {
   "cell_type": "code",
   "execution_count": 43,
   "id": "f424148c",
   "metadata": {},
   "outputs": [
    {
     "data": {
      "text/plain": [
       "dfCategoryAffairByGender = [genre: string, tranche_age: string ... 2 more fields]\n"
      ]
     },
     "metadata": {},
     "output_type": "display_data"
    },
    {
     "name": "stdout",
     "output_type": "stream",
     "text": [
      "+------+-----------+-----------------+-----------------+\n",
      "| genre|tranche_age|statut_infidelite|indice_infidelite|\n",
      "+------+-----------+-----------------+-----------------+\n",
      "|female|       0-29|           fidele|                0|\n",
      "|female|       0-29|         infidele|                5|\n",
      "|female|      30-39|           fidele|                0|\n",
      "|female|      30-39|         infidele|                7|\n",
      "|female|      40-49|           fidele|                0|\n",
      "|female|      40-49|         infidele|                7|\n",
      "|female|      50-59|           fidele|                0|\n",
      "|female|      50-59|         infidele|                6|\n",
      "|  male|       0-29|           fidele|                0|\n",
      "|  male|       0-29|         infidele|                4|\n",
      "|  male|      30-39|           fidele|                0|\n",
      "|  male|      30-39|         infidele|                6|\n",
      "|  male|      40-49|           fidele|                0|\n",
      "|  male|      40-49|         infidele|                7|\n",
      "|  male|      50-59|           fidele|                0|\n",
      "|  male|      50-59|         infidele|                6|\n",
      "+------+-----------+-----------------+-----------------+\n",
      "\n"
     ]
    },
    {
     "data": {
      "text/plain": [
       "[genre: string, tranche_age: string ... 2 more fields]"
      ]
     },
     "execution_count": 43,
     "metadata": {},
     "output_type": "execute_result"
    }
   ],
   "source": [
    "val dfCategoryAffairByGender = hc.sql(\"\"\"\n",
    "    SELECT g.gender AS genre, \n",
    "    CASE \n",
    "        WHEN a.age < 30 THEN '0-29' \n",
    "        WHEN a.age < 40 THEN '30-39' \n",
    "        WHEN a.age < 50 THEN '40-49' \n",
    "        WHEN a.age < 60 THEN '50-59' \n",
    "        ELSE '60+' \n",
    "    END AS tranche_age, \n",
    "    CASE \n",
    "        WHEN a.affairs > 0 THEN 'infidele' \n",
    "        ELSE 'fidele' \n",
    "    END AS statut_infidelite, \n",
    "    CAST(ROUND(AVG(a.affairs)) AS INT) AS indice_infidelite \n",
    "    FROM affairs a \n",
    "    JOIN gender g ON a.id_gender = g.id_gender \n",
    "    GROUP BY g.gender, tranche_age, statut_infidelite \n",
    "    ORDER BY g.gender, tranche_age, statut_infidelite;\n",
    "\"\"\")\n",
    "\n",
    "dfCategoryAffairByGender.show()"
   ]
  },
  {
   "cell_type": "markdown",
   "id": "6e323080",
   "metadata": {},
   "source": [
    "### Total des infidélités en fonction du niveau de religiosité et du sexe\n",
    "religiousness: 1 = anti, 2 = not at all, 3 = slightly, 4 = somewhat, 5 = very."
   ]
  },
  {
   "cell_type": "code",
   "execution_count": 40,
   "id": "0859ab40",
   "metadata": {},
   "outputs": [
    {
     "name": "stdout",
     "output_type": "stream",
     "text": [
      "+-------------+------+--------------+\n",
      "|total_affairs|gender| religiousness|\n",
      "+-------------+------+--------------+\n",
      "|            2|  male|Anti-religieux|\n",
      "|            4|female|Anti-religieux|\n",
      "|            1|female|         Athée|\n",
      "|            2|  male|         Athée|\n",
      "|            2|  male|       Presque|\n",
      "|            2|female|       Presque|\n",
      "|            1|  male|        Un peu|\n",
      "|            1|female|        Un peu|\n",
      "|            1|  male|          Très|\n",
      "|            1|female|          Très|\n",
      "+-------------+------+--------------+\n",
      "\n"
     ]
    },
    {
     "data": {
      "text/plain": [
       "lastException = null\n",
       "dfTotalAffairByReligiousness = [total_affairs: int, gender: string ... 1 more field]\n"
      ]
     },
     "metadata": {},
     "output_type": "display_data"
    },
    {
     "data": {
      "text/plain": [
       "[total_affairs: int, gender: string ... 1 more field]"
      ]
     },
     "execution_count": 40,
     "metadata": {},
     "output_type": "execute_result"
    }
   ],
   "source": [
    "val dfTotalAffairByReligiousness = hc.sql(\"\"\"\n",
    "    SELECT CAST(ROUND(AVG(a.affairs)) AS INT) AS total_affairs, g.gender, \n",
    "    CASE \n",
    "        WHEN a.religiousness = 1 THEN 'Anti-religieux' \n",
    "        WHEN a.religiousness = 2 THEN 'Athée' \n",
    "        WHEN a.religiousness = 3 THEN 'Presque' \n",
    "        WHEN a.religiousness = 4 THEN 'Un peu' \n",
    "        ELSE 'Très' \n",
    "    END AS religiousness\n",
    "    FROM affairs a\n",
    "    JOIN gender g ON g.id_gender = a.id_gender\n",
    "    GROUP BY a.religiousness, g.gender\n",
    "    ORDER BY a.religiousness\n",
    "\"\"\")\n",
    "\n",
    "dfTotalAffairByReligiousness.show()"
   ]
  },
  {
   "cell_type": "markdown",
   "id": "56b195c1",
   "metadata": {},
   "source": [
    "### ÉTAPE 2 - Graphiques"
   ]
  },
  {
   "cell_type": "code",
   "execution_count": 25,
   "id": "c63ef214",
   "metadata": {},
   "outputs": [],
   "source": [
    "dfAverageAffairByGender.coalesce(1)\n",
    "  .write\n",
    "  .mode(\"overwrite\")\n",
    "  .format(\"com.databricks.spark.csv\")\n",
    "  .option(\"header\", \"true\")\n",
    "  .save(\"output/avg_affairs_by_gender\")"
   ]
  },
  {
   "cell_type": "code",
   "execution_count": 45,
   "id": "32b5b7b7",
   "metadata": {},
   "outputs": [],
   "source": [
    "dfCategoryAffairByGender.coalesce(1)\n",
    "  .write\n",
    "  .mode(\"overwrite\")\n",
    "  .format(\"com.databricks.spark.csv\")\n",
    "  .option(\"header\", \"true\")\n",
    "  .save(\"output/category_affairs_by_gender\")"
   ]
  },
  {
   "cell_type": "code",
   "execution_count": 27,
   "id": "bd57b233",
   "metadata": {},
   "outputs": [],
   "source": [
    "dfAverageAffairByRating.coalesce(1)\n",
    "  .write\n",
    "  .mode(\"overwrite\")\n",
    "  .format(\"com.databricks.spark.csv\")\n",
    "  .option(\"header\", \"true\")\n",
    "  .save(\"output/avg_affairs_by_rating\")"
   ]
  },
  {
   "cell_type": "code",
   "execution_count": 32,
   "id": "15d2bc1e",
   "metadata": {},
   "outputs": [],
   "source": [
    "dfCategoryYearsMarried.coalesce(1)\n",
    "  .write\n",
    "  .mode(\"overwrite\")\n",
    "  .format(\"com.databricks.spark.csv\")\n",
    "  .option(\"header\", \"true\")\n",
    "  .save(\"output/category_years_married\")"
   ]
  },
  {
   "cell_type": "code",
   "execution_count": 44,
   "id": "2cb28fd0",
   "metadata": {},
   "outputs": [],
   "source": [
    "dfAverageAgeByGender.coalesce(1)\n",
    "  .write\n",
    "  .mode(\"overwrite\")\n",
    "  .format(\"com.databricks.spark.csv\")\n",
    "  .option(\"header\", \"true\")\n",
    "  .save(\"output/avg_age_by_gender\")"
   ]
  },
  {
   "cell_type": "code",
   "execution_count": 41,
   "id": "4caa582d",
   "metadata": {},
   "outputs": [],
   "source": [
    "dfTotalAffairByReligiousness.coalesce(1)\n",
    "  .write\n",
    "  .mode(\"overwrite\")\n",
    "  .format(\"com.databricks.spark.csv\")\n",
    "  .option(\"header\", \"true\")\n",
    "  .save(\"output/total_affairs_by_religiousness\")"
   ]
  }
 ],
 "metadata": {
  "kernelspec": {
   "display_name": "Apache Toree - Scala",
   "language": "scala",
   "name": "apache_toree_scala"
  },
  "language_info": {
   "codemirror_mode": "text/x-scala",
   "file_extension": ".scala",
   "mimetype": "text/x-scala",
   "name": "scala",
   "pygments_lexer": "scala",
   "version": "2.12.15"
  }
 },
 "nbformat": 4,
 "nbformat_minor": 5
}
