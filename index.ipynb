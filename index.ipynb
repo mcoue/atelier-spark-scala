{
 "cells": [
  {
   "cell_type": "markdown",
   "id": "85dbdf63",
   "metadata": {},
   "source": [
    "# SÉANCE 1"
   ]
  },
  {
   "cell_type": "markdown",
   "id": "94475a9f",
   "metadata": {},
   "source": [
    "### ÉTAPE 2 - Persona"
   ]
  },
  {
   "cell_type": "markdown",
   "id": "551c4da2",
   "metadata": {},
   "source": [
    "#### Métier / Type d’utilisateur intéressé par ces données\n",
    "Un thérapeute de couple ou un psychologue conjugal serait un profil très pertinent. Ces professionnels cherchent à comprendre les facteurs influençant la satisfaction conjugale et la fidélité dans le couple.\n",
    "\n",
    "Les variables disponibles (âge, durée du mariage, présence d’enfants, religiosité, satisfaction dans le couple, etc.) peuvent les aider à identifier les profils à risque ou à mieux orienter leur accompagnement.\n",
    "\n",
    "#### Persona : Dr. Clara Morel, psychologue conjugale\n",
    "__Âge :__ 42 ans\n",
    "\n",
    "__Profession :__ Psychologue spécialisée en thérapie de couple\n",
    "\n",
    "__Lieu d’exercice :__ Cabinet privé à Lyon\n",
    "\n",
    "__Contexte :__ Elle accompagne principalement des couples mariés entre 25 et 55 ans. Elle s’intéresse à l’impact de la durée du mariage, de la religiosité, du niveau d’éducation ou encore du niveau de satisfaction conjugale sur la fidélité."
   ]
  },
  {
   "cell_type": "markdown",
   "id": "075e6f78",
   "metadata": {},
   "source": [
    "### ÉTAPE 3 - Chargement, pré-traitement"
   ]
  },
  {
   "cell_type": "code",
   "execution_count": 60,
   "id": "d0cab800",
   "metadata": {},
   "outputs": [],
   "source": [
    "import org.apache.spark.rdd.RDD\n",
    "import org.apache.spark.sql.functions.monotonically_increasing_id\n",
    "import org.apache.spark.sql.hive.HiveContext"
   ]
  },
  {
   "cell_type": "code",
   "execution_count": 61,
   "id": "8a2a127a",
   "metadata": {},
   "outputs": [
    {
     "data": {
      "text/plain": [
       "defined class Affair\n"
      ]
     },
     "metadata": {},
     "output_type": "display_data"
    }
   ],
   "source": [
    "case class Affair(\n",
    "    id: Int,\n",
    "    affairs: Int,\n",
    "    gender: String,\n",
    "    age: Double,\n",
    "    yearsMarried: Double,\n",
    "    children: String,\n",
    "    religiousness: Int,\n",
    "    education: Int,\n",
    "    occupation: Int,\n",
    "    rating: Int\n",
    ")"
   ]
  },
  {
   "cell_type": "code",
   "execution_count": 62,
   "id": "fc6d2f2b",
   "metadata": {},
   "outputs": [
    {
     "name": "stdout",
     "output_type": "stream",
     "text": [
      "Affair(4,0,male,37.0,10.0,no,3,18,7,4)\n",
      "Affair(5,0,female,27.0,4.0,no,4,14,6,4)\n",
      "Affair(11,0,female,32.0,15.0,yes,1,12,1,4)\n",
      "Affair(16,0,male,57.0,15.0,yes,5,18,6,5)\n",
      "Affair(23,0,male,22.0,0.75,no,2,17,6,3)\n",
      "Affair(29,0,female,32.0,1.5,no,2,17,5,5)\n",
      "Affair(44,0,female,22.0,0.75,no,2,12,1,3)\n",
      "Affair(45,0,male,57.0,15.0,yes,2,14,4,4)\n",
      "Affair(47,0,female,32.0,15.0,yes,4,16,1,2)\n",
      "Affair(49,0,male,22.0,1.5,no,4,14,4,5)\n"
     ]
    },
    {
     "data": {
      "text/plain": [
       "data = MapPartitionsRDD[290] at map at <console>:60\n",
       "affairsRDD = MapPartitionsRDD[292] at map at <console>:64\n"
      ]
     },
     "metadata": {},
     "output_type": "display_data"
    },
    {
     "data": {
      "text/plain": [
       "MapPartitionsRDD[292] at map at <console>:64"
      ]
     },
     "execution_count": 62,
     "metadata": {},
     "output_type": "execute_result"
    }
   ],
   "source": [
    "val data = sc.textFile(\"data/Affairs.csv\")\n",
    "    .zipWithIndex().filter { case (_, idx) => idx > 0 }.map(_._1)\n",
    "\n",
    "val affairsRDD: RDD[Affair] = data\n",
    "  .map(_.split(\",\"))\n",
    "  .map(fields => Affair(\n",
    "    fields(0).toInt,\n",
    "    fields(1).toInt,\n",
    "    fields(2).toString,\n",
    "    fields(3).toDouble,\n",
    "    fields(4).toDouble,\n",
    "    fields(5).toString,\n",
    "    fields(6).toInt,\n",
    "    fields(7).toInt,\n",
    "    fields(8).toInt,\n",
    "    fields(9).toInt\n",
    "  ))\n",
    "\n",
    "affairsRDD.take(10).foreach(println)"
   ]
  },
  {
   "cell_type": "markdown",
   "id": "81f722bd",
   "metadata": {},
   "source": [
    "# SÉANCE 2"
   ]
  },
  {
   "cell_type": "markdown",
   "id": "9c245b5d",
   "metadata": {},
   "source": [
    "### ÉTAPE 1 - RDD vers un dataframe"
   ]
  },
  {
   "cell_type": "code",
   "execution_count": 63,
   "id": "ceadc864",
   "metadata": {},
   "outputs": [
    {
     "name": "stdout",
     "output_type": "stream",
     "text": [
      "+---+-------+------+----+------------+--------+-------------+---------+----------+------+\n",
      "| id|affairs|gender| age|yearsMarried|children|religiousness|education|occupation|rating|\n",
      "+---+-------+------+----+------------+--------+-------------+---------+----------+------+\n",
      "|  4|      0|  male|37.0|        10.0|      no|            3|       18|         7|     4|\n",
      "|  5|      0|female|27.0|         4.0|      no|            4|       14|         6|     4|\n",
      "| 11|      0|female|32.0|        15.0|     yes|            1|       12|         1|     4|\n",
      "| 16|      0|  male|57.0|        15.0|     yes|            5|       18|         6|     5|\n",
      "| 23|      0|  male|22.0|        0.75|      no|            2|       17|         6|     3|\n",
      "| 29|      0|female|32.0|         1.5|      no|            2|       17|         5|     5|\n",
      "| 44|      0|female|22.0|        0.75|      no|            2|       12|         1|     3|\n",
      "| 45|      0|  male|57.0|        15.0|     yes|            2|       14|         4|     4|\n",
      "| 47|      0|female|32.0|        15.0|     yes|            4|       16|         1|     2|\n",
      "| 49|      0|  male|22.0|         1.5|      no|            4|       14|         4|     5|\n",
      "+---+-------+------+----+------------+--------+-------------+---------+----------+------+\n",
      "only showing top 10 rows\n",
      "\n",
      "root\n",
      " |-- id: integer (nullable = false)\n",
      " |-- affairs: integer (nullable = false)\n",
      " |-- gender: string (nullable = true)\n",
      " |-- age: double (nullable = false)\n",
      " |-- yearsMarried: double (nullable = false)\n",
      " |-- children: string (nullable = true)\n",
      " |-- religiousness: integer (nullable = false)\n",
      " |-- education: integer (nullable = false)\n",
      " |-- occupation: integer (nullable = false)\n",
      " |-- rating: integer (nullable = false)\n",
      "\n",
      "Total rows: 601\n"
     ]
    },
    {
     "data": {
      "text/plain": [
       "affairsDF = [id: int, affairs: int ... 8 more fields]\n"
      ]
     },
     "metadata": {},
     "output_type": "display_data"
    },
    {
     "name": "stdout",
     "output_type": "stream",
     "text": [
      "+-------+------------------+------------------+------+-----------------+-----------------+--------+------------------+------------------+------------------+------------------+\n",
      "|summary|                id|           affairs|gender|              age|     yearsMarried|children|     religiousness|         education|        occupation|            rating|\n",
      "+-------+------------------+------------------+------+-----------------+-----------------+--------+------------------+------------------+------------------+------------------+\n",
      "|  count|               601|               601|   601|              601|              601|     601|               601|               601|               601|               601|\n",
      "|   mean|1059.7221297836938|1.4559068219633944|  NULL|32.48752079866888| 8.17769550748752|    NULL|3.1164725457570714| 16.16638935108153| 4.194675540765391|3.9317803660565724|\n",
      "| stddev| 914.9046112352131|  3.29875772849468|  NULL| 9.28876170487667|5.571303149963793|    NULL|1.1675094016730692|2.4025545657666987|1.8194426627085787|1.1031794920503792|\n",
      "|    min|                 4|                 0|female|             17.5|            0.125|      no|                 1|                 9|                 1|                 1|\n",
      "|    25%|               528|                 0|  NULL|             27.0|              4.0|    NULL|                 2|                14|                 3|                 3|\n",
      "|    50%|              1009|                 0|  NULL|             32.0|              7.0|    NULL|                 3|                16|                 5|                 4|\n",
      "|    75%|              1453|                 0|  NULL|             37.0|             15.0|    NULL|                 4|                18|                 6|                 5|\n",
      "|    max|              9029|                12|  male|             57.0|             15.0|     yes|                 5|                20|                 7|                 5|\n",
      "+-------+------------------+------------------+------+-----------------+-----------------+--------+------------------+------------------+------------------+------------------+\n",
      "\n"
     ]
    },
    {
     "data": {
      "text/plain": [
       "[id: int, affairs: int ... 8 more fields]"
      ]
     },
     "execution_count": 63,
     "metadata": {},
     "output_type": "execute_result"
    }
   ],
   "source": [
    "val affairsDF = affairsRDD.toDF()\n",
    "\n",
    "affairsDF.show(10)\n",
    "affairsDF.printSchema()\n",
    "println(s\"Total rows: ${affairsDF.count()}\")\n",
    "affairsDF.summary().show()"
   ]
  },
  {
   "cell_type": "markdown",
   "id": "5e752f1a",
   "metadata": {},
   "source": [
    "### ÉTAPE 2 - Extraction de dimensions"
   ]
  },
  {
   "cell_type": "code",
   "execution_count": 64,
   "id": "e0e3d413",
   "metadata": {},
   "outputs": [
    {
     "name": "stdout",
     "output_type": "stream",
     "text": [
      "+--------+-----------+\n",
      "|children|id_children|\n",
      "+--------+-----------+\n",
      "|      no|          0|\n",
      "|     yes|          1|\n",
      "+--------+-----------+\n",
      "\n"
     ]
    },
    {
     "data": {
      "text/plain": [
       "dfChildren = [children: string, id_children: bigint]\n",
       "dfGenders = [gender: string, id_gender: bigint]\n"
      ]
     },
     "metadata": {},
     "output_type": "display_data"
    },
    {
     "name": "stdout",
     "output_type": "stream",
     "text": [
      "+------+---------+\n",
      "|gender|id_gender|\n",
      "+------+---------+\n",
      "|female|        0|\n",
      "|  male|        1|\n",
      "+------+---------+\n",
      "\n"
     ]
    },
    {
     "data": {
      "text/plain": [
       "[gender: string, id_gender: bigint]"
      ]
     },
     "execution_count": 64,
     "metadata": {},
     "output_type": "execute_result"
    }
   ],
   "source": [
    "// dimensions littérales = children & gender\n",
    "\n",
    "val dfChildren = affairsDF\n",
    "    .select(\"children\")\n",
    "    .distinct\n",
    "    .withColumn(\"id_children\", monotonically_increasing_id)\n",
    "\n",
    "dfChildren.show(10);\n",
    "\n",
    "val dfGenders = affairsDF\n",
    "    .select(\"gender\")\n",
    "    .distinct\n",
    "    .withColumn(\"id_gender\", monotonically_increasing_id)\n",
    "\n",
    "dfGender.show(10)"
   ]
  },
  {
   "cell_type": "code",
   "execution_count": 65,
   "id": "b00ad3a6",
   "metadata": {},
   "outputs": [
    {
     "name": "stdout",
     "output_type": "stream",
     "text": [
      "root\n",
      " |-- id: integer (nullable = false)\n",
      " |-- affairs: integer (nullable = false)\n",
      " |-- age: double (nullable = false)\n",
      " |-- yearsMarried: double (nullable = false)\n",
      " |-- religiousness: integer (nullable = false)\n",
      " |-- education: integer (nullable = false)\n",
      " |-- occupation: integer (nullable = false)\n",
      " |-- rating: integer (nullable = false)\n",
      " |-- id_gender: long (nullable = false)\n",
      " |-- id_children: long (nullable = false)\n",
      "\n"
     ]
    },
    {
     "data": {
      "text/plain": [
       "affairsNormalized = [id: int, affairs: int ... 8 more fields]\n"
      ]
     },
     "metadata": {},
     "output_type": "display_data"
    },
    {
     "data": {
      "text/plain": [
       "[id: int, affairs: int ... 8 more fields]"
      ]
     },
     "execution_count": 65,
     "metadata": {},
     "output_type": "execute_result"
    }
   ],
   "source": [
    "val affairsNormalized = affairsDF\n",
    ".join(dfGender, Seq(\"gender\"))\n",
    ".join(dfChildren, Seq(\"children\"))\n",
    ".drop(\"gender\", \"children\")\n",
    "\n",
    "affairsNormalized.printSchema()"
   ]
  },
  {
   "cell_type": "markdown",
   "id": "a491252b",
   "metadata": {},
   "source": [
    "### ÉTAPE 3 - Tables Hive, SQL"
   ]
  },
  {
   "cell_type": "code",
   "execution_count": 66,
   "id": "f37d2767",
   "metadata": {},
   "outputs": [],
   "source": [
    "dfGender.write.mode(\"overwrite\").saveAsTable(\"gender\")\n",
    "dfChildren.write.mode(\"overwrite\").saveAsTable(\"children\")\n",
    "affairsNormalized.write.mode(\"overwrite\").saveAsTable(\"affairs\")"
   ]
  },
  {
   "cell_type": "code",
   "execution_count": 74,
   "id": "336eef85",
   "metadata": {},
   "outputs": [
    {
     "name": "stdout",
     "output_type": "stream",
     "text": [
      "+---------+------------+-----------+\n",
      "|namespace|   tableName|isTemporary|\n",
      "+---------+------------+-----------+\n",
      "|  default|     affairs|      false|\n",
      "|  default|    children|      false|\n",
      "|  default|dim_children|      false|\n",
      "|  default|  dim_gender|      false|\n",
      "|  default|fact_affairs|      false|\n",
      "|  default|      gender|      false|\n",
      "+---------+------------+-----------+\n",
      "\n",
      "+------+---------+\n",
      "|gender|id_gender|\n",
      "+------+---------+\n",
      "|female|        0|\n",
      "|  male|        1|\n",
      "+------+---------+\n",
      "\n",
      "+--------+-----------+\n",
      "|children|id_children|\n",
      "+--------+-----------+\n",
      "|      no|          0|\n",
      "|     yes|          1|\n",
      "+--------+-----------+\n",
      "\n"
     ]
    },
    {
     "data": {
      "text/plain": [
       "hc = org.apache.spark.sql.hive.HiveContext@5ad872c7\n"
      ]
     },
     "metadata": {},
     "output_type": "display_data"
    },
    {
     "data": {
      "text/plain": [
       "warning: one deprecation (since 2.0.0); for details, enable `:setting -deprecation' or `:replay -deprecation'\n"
      ]
     },
     "metadata": {},
     "output_type": "display_data"
    },
    {
     "name": "stdout",
     "output_type": "stream",
     "text": [
      "+---+-------+----+------------+-------------+---------+----------+------+---------+-----------+\n",
      "| id|affairs| age|yearsMarried|religiousness|education|occupation|rating|id_gender|id_children|\n",
      "+---+-------+----+------------+-------------+---------+----------+------+---------+-----------+\n",
      "|  5|      0|27.0|         4.0|            4|       14|         6|     4|        0|          0|\n",
      "| 11|      0|32.0|        15.0|            1|       12|         1|     4|        0|          1|\n",
      "| 29|      0|32.0|         1.5|            2|       17|         5|     5|        0|          0|\n",
      "| 44|      0|22.0|        0.75|            2|       12|         1|     3|        0|          0|\n",
      "| 47|      0|32.0|        15.0|            4|       16|         1|     2|        0|          1|\n",
      "| 80|      0|22.0|         1.5|            2|       17|         5|     4|        0|          0|\n",
      "| 86|      0|27.0|         4.0|            4|       14|         5|     4|        0|          0|\n",
      "| 93|      0|37.0|        15.0|            1|       17|         5|     5|        0|          1|\n",
      "|108|      0|37.0|        15.0|            2|       18|         4|     3|        0|          1|\n",
      "|114|      0|22.0|        0.75|            3|       16|         5|     4|        0|          0|\n",
      "+---+-------+----+------------+-------------+---------+----------+------+---------+-----------+\n",
      "\n"
     ]
    },
    {
     "data": {
      "text/plain": [
       "org.apache.spark.sql.hive.HiveContext@5ad872c7"
      ]
     },
     "execution_count": 74,
     "metadata": {},
     "output_type": "execute_result"
    }
   ],
   "source": [
    "val hc = new HiveContext(sc)\n",
    "\n",
    "hc.sql(\"SHOW TABLES\").show()\n",
    "hc.sql(\"SELECT * FROM gender\").show()\n",
    "hc.sql(\"SELECT * FROM children\").show()\n",
    "hc.sql(\"SELECT * FROM affairs LIMIT 10\").show()"
   ]
  }
 ],
 "metadata": {
  "kernelspec": {
   "display_name": "Apache Toree - Scala",
   "language": "scala",
   "name": "apache_toree_scala"
  },
  "language_info": {
   "codemirror_mode": "text/x-scala",
   "file_extension": ".scala",
   "mimetype": "text/x-scala",
   "name": "scala",
   "pygments_lexer": "scala",
   "version": "2.12.15"
  }
 },
 "nbformat": 4,
 "nbformat_minor": 5
}
