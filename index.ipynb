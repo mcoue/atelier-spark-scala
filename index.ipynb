{
 "cells": [
  {
   "cell_type": "markdown",
   "id": "85dbdf63",
   "metadata": {},
   "source": [
    "# SÉANCE 1"
   ]
  },
  {
   "cell_type": "markdown",
   "id": "94475a9f",
   "metadata": {},
   "source": [
    "### ÉTAPE 2 - Persona"
   ]
  },
  {
   "cell_type": "markdown",
   "id": "551c4da2",
   "metadata": {},
   "source": [
    "#### Métier / Type d’utilisateur intéressé par ces données\n",
    "Un thérapeute de couple ou un psychologue conjugal serait un profil très pertinent. Ces professionnels cherchent à comprendre les facteurs influençant la satisfaction conjugale et la fidélité dans le couple.\n",
    "\n",
    "Les variables disponibles (âge, durée du mariage, présence d’enfants, religiosité, satisfaction dans le couple, etc.) peuvent les aider à identifier les profils à risque ou à mieux orienter leur accompagnement.\n",
    "\n",
    "#### Persona : Dr. Clara Morel, psychologue conjugale\n",
    "__Âge :__ 42 ans\n",
    "\n",
    "__Profession :__ Psychologue spécialisée en thérapie de couple\n",
    "\n",
    "__Lieu d’exercice :__ Cabinet privé à Lyon\n",
    "\n",
    "__Contexte :__ Elle accompagne principalement des couples mariés entre 25 et 55 ans. Elle s’intéresse à l’impact de la durée du mariage, de la religiosité, du niveau d’éducation ou encore du niveau de satisfaction conjugale sur la fidélité."
   ]
  },
  {
   "cell_type": "markdown",
   "id": "075e6f78",
   "metadata": {},
   "source": [
    "### ÉTAPE 3 - Chargement, pré-traitement"
   ]
  },
  {
   "cell_type": "code",
   "execution_count": 11,
   "id": "d0cab800",
   "metadata": {},
   "outputs": [],
   "source": [
    "import org.apache.spark.rdd.RDD"
   ]
  },
  {
   "cell_type": "code",
   "execution_count": 15,
   "id": "8a2a127a",
   "metadata": {},
   "outputs": [
    {
     "data": {
      "text/plain": [
       "defined class Affair\n"
      ]
     },
     "metadata": {},
     "output_type": "display_data"
    }
   ],
   "source": [
    "case class Affair(\n",
    "    id: Int,\n",
    "    affairs: Int,\n",
    "    gender: String,\n",
    "    age: Double,\n",
    "    yearsMarried: Double,\n",
    "    children: String,\n",
    "    religiousness: Int,\n",
    "    education: Int,\n",
    "    occupation: Int,\n",
    "    rating: Int\n",
    ")"
   ]
  },
  {
   "cell_type": "code",
   "execution_count": 14,
   "id": "fc6d2f2b",
   "metadata": {},
   "outputs": [
    {
     "name": "stdout",
     "output_type": "stream",
     "text": [
      "Affair(4,0,male,37.0,10.0,no,3,18,7,4)\n",
      "Affair(5,0,female,27.0,4.0,no,4,14,6,4)\n",
      "Affair(11,0,female,32.0,15.0,yes,1,12,1,4)\n",
      "Affair(16,0,male,57.0,15.0,yes,5,18,6,5)\n",
      "Affair(23,0,male,22.0,0.75,no,2,17,6,3)\n",
      "Affair(29,0,female,32.0,1.5,no,2,17,5,5)\n",
      "Affair(44,0,female,22.0,0.75,no,2,12,1,3)\n",
      "Affair(45,0,male,57.0,15.0,yes,2,14,4,4)\n",
      "Affair(47,0,female,32.0,15.0,yes,4,16,1,2)\n",
      "Affair(49,0,male,22.0,1.5,no,4,14,4,5)\n"
     ]
    },
    {
     "data": {
      "text/plain": [
       "data = MapPartitionsRDD[32] at map at <console>:36\n",
       "affairsRDD = MapPartitionsRDD[34] at map at <console>:40\n"
      ]
     },
     "metadata": {},
     "output_type": "display_data"
    },
    {
     "data": {
      "text/plain": [
       "MapPartitionsRDD[34] at map at <console>:40"
      ]
     },
     "execution_count": 14,
     "metadata": {},
     "output_type": "execute_result"
    }
   ],
   "source": [
    "val data = sc.textFile(\"data/Affairs.csv\")\n",
    "    .zipWithIndex().filter { case (_, idx) => idx > 0 }.map(_._1)\n",
    "\n",
    "val affairsRDD: RDD[Affair] = data\n",
    "  .map(_.split(\",\"))\n",
    "  .map(fields => Affair(\n",
    "    fields(0).toInt,\n",
    "    fields(1).toInt,\n",
    "    fields(2).toString,\n",
    "    fields(3).toDouble,\n",
    "    fields(4).toDouble,\n",
    "    fields(5).toString,\n",
    "    fields(6).toInt,\n",
    "    fields(7).toInt,\n",
    "    fields(8).toInt,\n",
    "    fields(9).toInt\n",
    "  ))\n",
    "\n",
    "affairsRDD.take(10).foreach(println)"
   ]
  }
 ],
 "metadata": {
  "kernelspec": {
   "display_name": "Apache Toree - Scala",
   "language": "scala",
   "name": "apache_toree_scala"
  },
  "language_info": {
   "codemirror_mode": "text/x-scala",
   "file_extension": ".scala",
   "mimetype": "text/x-scala",
   "name": "scala",
   "pygments_lexer": "scala",
   "version": "2.12.15"
  }
 },
 "nbformat": 4,
 "nbformat_minor": 5
}
